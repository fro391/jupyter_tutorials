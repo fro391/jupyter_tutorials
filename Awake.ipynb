{
 "cells": [
  {
   "cell_type": "code",
   "execution_count": 3,
   "id": "7b6a0b2e-7dd3-49d9-859a-595d85409efd",
   "metadata": {},
   "outputs": [],
   "source": [
    "import pyautogui\n",
    "import time\n",
    "import sys\n",
    "from datetime import datetime\n",
    "import random"
   ]
  },
  {
   "cell_type": "code",
   "execution_count": null,
   "id": "06241a2d-7e1e-44a9-bc95-4ec248acba26",
   "metadata": {},
   "outputs": [
    {
     "name": "stdout",
     "output_type": "stream",
     "text": [
      "Movement made at 16:17:55.989983\n",
      "Movement made at 16:18:43.559403\n",
      "Movement made at 16:19:45.731877\n",
      "Movement made at 16:20:25.702512\n"
     ]
    }
   ],
   "source": [
    "pyautogui.FAILSAFE = False\n",
    "numMin = 44\n",
    "# if ((len(sys.argv)<2) or sys.argv[1].isalpha() or int(sys.argv[1])<1):\n",
    "#     numMin = 3\n",
    "# else:\n",
    "#     numMin = int(sys.argv[1])\n",
    "x=0\n",
    "while(x<numMin):\n",
    "    seconds = random.randint(20,90)\n",
    "    time.sleep(seconds)\n",
    "    x+=1\n",
    "    \n",
    "    j = random.randint(100, 3000)\n",
    "    i = random.randint(100, 600)\n",
    "    mvmt_tm_init = round(random.uniform(0.32, 4.99), 2)\n",
    "    pyautogui.moveTo(j,i, duration = mvmt_tm_init)\n",
    "    \n",
    "    randX = random.randint(1,1800)\n",
    "    randY = random.randint(1,600)\n",
    "    mvmt_tm = round(random.uniform(0.22, 3.99), 2)\n",
    "    pyautogui.moveTo(randX,randY, duration = mvmt_tm)\n",
    "    \n",
    "    clks = random.randint(1,3)\n",
    "    for i in range(0,clks):\n",
    "        pyautogui.press(\"shift\")\n",
    "    print(\"Movement made at {}\".format(datetime.now().time()))"
   ]
  },
  {
   "cell_type": "code",
   "execution_count": null,
   "id": "6713cffc-e636-4708-baca-a1e8d19fe44d",
   "metadata": {},
   "outputs": [],
   "source": []
  }
 ],
 "metadata": {
  "kernelspec": {
   "display_name": "Python 3 (ipykernel)",
   "language": "python",
   "name": "python3"
  },
  "language_info": {
   "codemirror_mode": {
    "name": "ipython",
    "version": 3
   },
   "file_extension": ".py",
   "mimetype": "text/x-python",
   "name": "python",
   "nbconvert_exporter": "python",
   "pygments_lexer": "ipython3",
   "version": "3.9.13"
  }
 },
 "nbformat": 4,
 "nbformat_minor": 5
}
